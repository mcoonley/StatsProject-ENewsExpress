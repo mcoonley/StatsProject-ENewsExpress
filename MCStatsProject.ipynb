{
 "cells": [
  {
   "cell_type": "markdown",
   "metadata": {},
   "source": [
    "<h1><center>E-news Express</center></h1>"
   ]
  },
  {
   "cell_type": "markdown",
   "metadata": {},
   "source": [
    "## Background:\n",
    "\n",
    "E-news Express is an online news portal striving to expand it's business by acquiring new subscribers.  The design team has created a new landing page to achieve this goal.  In an effort to determine whether the new landing page attracted more visitors who became subscribers, one hundred users have been randomly selected.  These users were divided into two equal groups: the control group-viewed the old landing page; treatment group - half viewed the new landing page. Other data was collected from each individual user and provided in the data file, 'abtest.csv'. "
   ]
  },
  {
   "cell_type": "markdown",
   "metadata": {},
   "source": [
    "## Objective:\n",
    "\n",
    "To explore the dataset to extract insights from the data.  Also perform statistical analysis on the data set to determine if users spend  ore time on the new landing page than the old one.  Answer the following questions:  Did more users convert to subscribers after viewing the new landing page or the old landing page?  Is there a relationship between the new subscriber conversion and language preference? Is the average time spent on the new landing page similar for all language users?\n"
   ]
  },
  {
   "cell_type": "markdown",
   "metadata": {},
   "source": [
    "## Data:\n",
    "\n",
    "The data includes information for the 100 users randomly sampled including:\n",
    "\n",
    "*user_id* - user ID of website visitor<br>\n",
    "*group* - was user in control or treatment group<br>\n",
    "*landing_page (lpage)* - was old or new landing page viewed<br>\n",
    "*time_spent_on_the_page (time)* - amount of time in minutes user spent on landing page<br>\n",
    "*converted (conv)* - denotes whether or not user became subscriber<br>\n",
    "*language_preferred (langpref)* - language chosen by user on landing page<br>"
   ]
  },
  {
   "cell_type": "code",
   "execution_count": 182,
   "metadata": {},
   "outputs": [],
   "source": [
    "#to remove warnings\n",
    "import warnings\n",
    "warnings.filterwarnings('ignore')"
   ]
  },
  {
   "cell_type": "markdown",
   "metadata": {},
   "source": [
    "### Importing Libraries including numpy, pandas, seaborn, scipy.stats and statistics"
   ]
  },
  {
   "cell_type": "code",
   "execution_count": 183,
   "metadata": {},
   "outputs": [],
   "source": [
    "import numpy as np\n",
    "import pandas as pd\n",
    "import seaborn as sns\n",
    "import scipy.stats as stats\n",
    "import statistics"
   ]
  },
  {
   "cell_type": "markdown",
   "metadata": {},
   "source": [
    "### Read in Data set"
   ]
  },
  {
   "cell_type": "code",
   "execution_count": 184,
   "metadata": {},
   "outputs": [],
   "source": [
    "# import data\n",
    "ab=pd.read_csv('abtest.csv')"
   ]
  },
  {
   "cell_type": "markdown",
   "metadata": {},
   "source": [
    "### Checking shape and information of data set"
   ]
  },
  {
   "cell_type": "code",
   "execution_count": 185,
   "metadata": {},
   "outputs": [
    {
     "name": "stdout",
     "output_type": "stream",
     "text": [
      "<class 'pandas.core.frame.DataFrame'>\n",
      "RangeIndex: 100 entries, 0 to 99\n",
      "Data columns (total 6 columns):\n",
      " #   Column                  Non-Null Count  Dtype  \n",
      "---  ------                  --------------  -----  \n",
      " 0   user_id                 100 non-null    int64  \n",
      " 1   group                   100 non-null    object \n",
      " 2   landing_page            100 non-null    object \n",
      " 3   time_spent_on_the_page  100 non-null    float64\n",
      " 4   converted               100 non-null    object \n",
      " 5   language_preferred      100 non-null    object \n",
      "dtypes: float64(1), int64(1), object(4)\n",
      "memory usage: 4.8+ KB\n"
     ]
    }
   ],
   "source": [
    "ab.info()"
   ]
  },
  {
   "cell_type": "code",
   "execution_count": 186,
   "metadata": {},
   "outputs": [
    {
     "data": {
      "text/plain": [
       "(100, 6)"
      ]
     },
     "execution_count": 186,
     "metadata": {},
     "output_type": "execute_result"
    }
   ],
   "source": [
    "ab.shape"
   ]
  },
  {
   "cell_type": "markdown",
   "metadata": {},
   "source": [
    "Data has 100 rows and 6 columns"
   ]
  },
  {
   "cell_type": "markdown",
   "metadata": {},
   "source": [
    "### Renaming columns for ease of use"
   ]
  },
  {
   "cell_type": "code",
   "execution_count": 267,
   "metadata": {},
   "outputs": [],
   "source": [
    "#truncating column names while also creating an new idential data set to ensure the integrity of the original data,\n",
    "#  column names were changed as follows:  'landing_page' changed to'lpage';'time_spent_on_the_page' changed to 'time';\n",
    "# 'converted' changed to 'conv'; 'language_preferred' changed to 'langpref'\n",
    "abt=ab.rename(columns={'landing_page':'lpage','time_spent_on_the_page':'time','converted':'conv',\n",
    "                       'language_preferred':'langpref'}, inplace=False)"
   ]
  },
  {
   "cell_type": "markdown",
   "metadata": {},
   "source": [
    "### Verifying new column names"
   ]
  },
  {
   "cell_type": "code",
   "execution_count": 188,
   "metadata": {},
   "outputs": [
    {
     "name": "stdout",
     "output_type": "stream",
     "text": [
      "<class 'pandas.core.frame.DataFrame'>\n",
      "RangeIndex: 100 entries, 0 to 99\n",
      "Data columns (total 6 columns):\n",
      " #   Column    Non-Null Count  Dtype  \n",
      "---  ------    --------------  -----  \n",
      " 0   user_id   100 non-null    int64  \n",
      " 1   group     100 non-null    object \n",
      " 2   lpage     100 non-null    object \n",
      " 3   time      100 non-null    float64\n",
      " 4   conv      100 non-null    object \n",
      " 5   langpref  100 non-null    object \n",
      "dtypes: float64(1), int64(1), object(4)\n",
      "memory usage: 4.8+ KB\n"
     ]
    }
   ],
   "source": [
    "abt.info()"
   ]
  },
  {
   "cell_type": "markdown",
   "metadata": {},
   "source": [
    "### Reviewing top five records"
   ]
  },
  {
   "cell_type": "code",
   "execution_count": 189,
   "metadata": {},
   "outputs": [
    {
     "data": {
      "text/html": [
       "<div>\n",
       "<style scoped>\n",
       "    .dataframe tbody tr th:only-of-type {\n",
       "        vertical-align: middle;\n",
       "    }\n",
       "\n",
       "    .dataframe tbody tr th {\n",
       "        vertical-align: top;\n",
       "    }\n",
       "\n",
       "    .dataframe thead th {\n",
       "        text-align: right;\n",
       "    }\n",
       "</style>\n",
       "<table border=\"1\" class=\"dataframe\">\n",
       "  <thead>\n",
       "    <tr style=\"text-align: right;\">\n",
       "      <th></th>\n",
       "      <th>user_id</th>\n",
       "      <th>group</th>\n",
       "      <th>lpage</th>\n",
       "      <th>time</th>\n",
       "      <th>conv</th>\n",
       "      <th>langpref</th>\n",
       "    </tr>\n",
       "  </thead>\n",
       "  <tbody>\n",
       "    <tr>\n",
       "      <th>0</th>\n",
       "      <td>546592</td>\n",
       "      <td>control</td>\n",
       "      <td>old</td>\n",
       "      <td>3.48</td>\n",
       "      <td>no</td>\n",
       "      <td>Spanish</td>\n",
       "    </tr>\n",
       "    <tr>\n",
       "      <th>1</th>\n",
       "      <td>546468</td>\n",
       "      <td>treatment</td>\n",
       "      <td>new</td>\n",
       "      <td>7.13</td>\n",
       "      <td>yes</td>\n",
       "      <td>English</td>\n",
       "    </tr>\n",
       "    <tr>\n",
       "      <th>2</th>\n",
       "      <td>546462</td>\n",
       "      <td>treatment</td>\n",
       "      <td>new</td>\n",
       "      <td>4.40</td>\n",
       "      <td>no</td>\n",
       "      <td>Spanish</td>\n",
       "    </tr>\n",
       "    <tr>\n",
       "      <th>3</th>\n",
       "      <td>546567</td>\n",
       "      <td>control</td>\n",
       "      <td>old</td>\n",
       "      <td>3.02</td>\n",
       "      <td>no</td>\n",
       "      <td>French</td>\n",
       "    </tr>\n",
       "    <tr>\n",
       "      <th>4</th>\n",
       "      <td>546459</td>\n",
       "      <td>treatment</td>\n",
       "      <td>new</td>\n",
       "      <td>4.75</td>\n",
       "      <td>yes</td>\n",
       "      <td>Spanish</td>\n",
       "    </tr>\n",
       "  </tbody>\n",
       "</table>\n",
       "</div>"
      ],
      "text/plain": [
       "   user_id      group lpage  time conv langpref\n",
       "0   546592    control   old  3.48   no  Spanish\n",
       "1   546468  treatment   new  7.13  yes  English\n",
       "2   546462  treatment   new  4.40   no  Spanish\n",
       "3   546567    control   old  3.02   no   French\n",
       "4   546459  treatment   new  4.75  yes  Spanish"
      ]
     },
     "execution_count": 189,
     "metadata": {},
     "output_type": "execute_result"
    }
   ],
   "source": [
    "#initial look at data\n",
    "abt.head()"
   ]
  },
  {
   "cell_type": "markdown",
   "metadata": {},
   "source": [
    "### Checking the summary of the data set"
   ]
  },
  {
   "cell_type": "code",
   "execution_count": 190,
   "metadata": {},
   "outputs": [
    {
     "data": {
      "text/html": [
       "<div>\n",
       "<style scoped>\n",
       "    .dataframe tbody tr th:only-of-type {\n",
       "        vertical-align: middle;\n",
       "    }\n",
       "\n",
       "    .dataframe tbody tr th {\n",
       "        vertical-align: top;\n",
       "    }\n",
       "\n",
       "    .dataframe thead th {\n",
       "        text-align: right;\n",
       "    }\n",
       "</style>\n",
       "<table border=\"1\" class=\"dataframe\">\n",
       "  <thead>\n",
       "    <tr style=\"text-align: right;\">\n",
       "      <th></th>\n",
       "      <th>user_id</th>\n",
       "      <th>time</th>\n",
       "    </tr>\n",
       "  </thead>\n",
       "  <tbody>\n",
       "    <tr>\n",
       "      <th>count</th>\n",
       "      <td>100.000000</td>\n",
       "      <td>100.000000</td>\n",
       "    </tr>\n",
       "    <tr>\n",
       "      <th>mean</th>\n",
       "      <td>546517.000000</td>\n",
       "      <td>5.377800</td>\n",
       "    </tr>\n",
       "    <tr>\n",
       "      <th>std</th>\n",
       "      <td>52.295779</td>\n",
       "      <td>2.378166</td>\n",
       "    </tr>\n",
       "    <tr>\n",
       "      <th>min</th>\n",
       "      <td>546443.000000</td>\n",
       "      <td>0.190000</td>\n",
       "    </tr>\n",
       "    <tr>\n",
       "      <th>25%</th>\n",
       "      <td>546467.750000</td>\n",
       "      <td>3.880000</td>\n",
       "    </tr>\n",
       "    <tr>\n",
       "      <th>50%</th>\n",
       "      <td>546492.500000</td>\n",
       "      <td>5.415000</td>\n",
       "    </tr>\n",
       "    <tr>\n",
       "      <th>75%</th>\n",
       "      <td>546567.250000</td>\n",
       "      <td>7.022500</td>\n",
       "    </tr>\n",
       "    <tr>\n",
       "      <th>max</th>\n",
       "      <td>546592.000000</td>\n",
       "      <td>10.710000</td>\n",
       "    </tr>\n",
       "  </tbody>\n",
       "</table>\n",
       "</div>"
      ],
      "text/plain": [
       "             user_id        time\n",
       "count     100.000000  100.000000\n",
       "mean   546517.000000    5.377800\n",
       "std        52.295779    2.378166\n",
       "min    546443.000000    0.190000\n",
       "25%    546467.750000    3.880000\n",
       "50%    546492.500000    5.415000\n",
       "75%    546567.250000    7.022500\n",
       "max    546592.000000   10.710000"
      ]
     },
     "execution_count": 190,
     "metadata": {},
     "output_type": "execute_result"
    }
   ],
   "source": [
    "abt.describe()"
   ]
  },
  {
   "cell_type": "markdown",
   "metadata": {},
   "source": [
    "### Checking for missing values"
   ]
  },
  {
   "cell_type": "code",
   "execution_count": 191,
   "metadata": {},
   "outputs": [
    {
     "data": {
      "text/plain": [
       "user_id     0\n",
       "group       0\n",
       "lpage       0\n",
       "time        0\n",
       "conv        0\n",
       "langpref    0\n",
       "dtype: int64"
      ]
     },
     "execution_count": 191,
     "metadata": {},
     "output_type": "execute_result"
    }
   ],
   "source": [
    "abt.isnull().sum()"
   ]
  },
  {
   "cell_type": "markdown",
   "metadata": {},
   "source": [
    "### Reviewing distinct values for all columns with Object Data type"
   ]
  },
  {
   "cell_type": "code",
   "execution_count": 192,
   "metadata": {},
   "outputs": [
    {
     "data": {
      "text/plain": [
       "treatment    50\n",
       "control      50\n",
       "Name: group, dtype: int64"
      ]
     },
     "execution_count": 192,
     "metadata": {},
     "output_type": "execute_result"
    }
   ],
   "source": [
    "#determine counts of distinct values for 'group' column\n",
    "abt.group.value_counts()"
   ]
  },
  {
   "cell_type": "code",
   "execution_count": 193,
   "metadata": {},
   "outputs": [
    {
     "data": {
      "text/plain": [
       "old    50\n",
       "new    50\n",
       "Name: lpage, dtype: int64"
      ]
     },
     "execution_count": 193,
     "metadata": {},
     "output_type": "execute_result"
    }
   ],
   "source": [
    "#determine counts of distinct values for 'lpage' (landing_page)column\n",
    "abt.lpage.value_counts()"
   ]
  },
  {
   "cell_type": "code",
   "execution_count": 194,
   "metadata": {},
   "outputs": [
    {
     "data": {
      "text/plain": [
       "yes    54\n",
       "no     46\n",
       "Name: conv, dtype: int64"
      ]
     },
     "execution_count": 194,
     "metadata": {},
     "output_type": "execute_result"
    }
   ],
   "source": [
    "#determine counts of distinct values for 'conv'(converted) column\n",
    "abt.conv.value_counts()"
   ]
  },
  {
   "cell_type": "code",
   "execution_count": 195,
   "metadata": {},
   "outputs": [
    {
     "data": {
      "text/plain": [
       "Spanish    34\n",
       "French     34\n",
       "English    32\n",
       "Name: langpref, dtype: int64"
      ]
     },
     "execution_count": 195,
     "metadata": {},
     "output_type": "execute_result"
    }
   ],
   "source": [
    "#determine counts of distinct values for 'langpref' (language_preferred) column\n",
    "abt.langpref.value_counts()"
   ]
  },
  {
   "cell_type": "markdown",
   "metadata": {},
   "source": [
    "## Exploratory Data Analysis"
   ]
  },
  {
   "cell_type": "markdown",
   "metadata": {},
   "source": [
    "#### Time spent on old and new landing pages"
   ]
  },
  {
   "cell_type": "code",
   "execution_count": 196,
   "metadata": {},
   "outputs": [
    {
     "data": {
      "image/png": "[encoded data removed]",
      "text/plain": [
       "<Figure size 432x288 with 1 Axes>"
      ]
     },
     "metadata": {
      "needs_background": "light"
     },
     "output_type": "display_data"
    }
   ],
   "source": [
    "sns.boxplot(x='lpage', y='time', data=abt, palette='Set2');"
   ]
  },
  {
   "cell_type": "markdown",
   "metadata": {},
   "source": [
    "#### Time spent on landing page and whether or not user converted to subscriber"
   ]
  },
  {
   "cell_type": "code",
   "execution_count": 197,
   "metadata": {},
   "outputs": [
    {
     "data": {
      "image/png": "[encoded data removed]",
      "text/plain": [
       "<Figure size 432x288 with 1 Axes>"
      ]
     },
     "metadata": {
      "needs_background": "light"
     },
     "output_type": "display_data"
    }
   ],
   "source": [
    "sns.boxplot(x='conv', y='time', data=abt, palette = \"mako\");"
   ]
  },
  {
   "cell_type": "markdown",
   "metadata": {},
   "source": [
    "#### Time spent on either landing page sorted by converted subscribers"
   ]
  },
  {
   "cell_type": "code",
   "execution_count": 198,
   "metadata": {},
   "outputs": [
    {
     "data": {
      "image/png": "[encoded data removed]",
      "text/plain": [
       "<Figure size 432x288 with 1 Axes>"
      ]
     },
     "metadata": {
      "needs_background": "light"
     },
     "output_type": "display_data"
    }
   ],
   "source": [
    "sns.boxplot(x='lpage', y='time', data=abt, hue='conv', palette='flare');"
   ]
  },
  {
   "cell_type": "markdown",
   "metadata": {},
   "source": [
    "#### Time spent on either landing page, sorted by language preference"
   ]
  },
  {
   "cell_type": "code",
   "execution_count": 199,
   "metadata": {},
   "outputs": [
    {
     "data": {
      "image/png": "[encoded data removed]",
      "text/plain": [
       "<Figure size 432x288 with 1 Axes>"
      ]
     },
     "metadata": {
      "needs_background": "light"
     },
     "output_type": "display_data"
    }
   ],
   "source": [
    "sns.boxplot(x='langpref', y='time', data=abt);"
   ]
  },
  {
   "cell_type": "markdown",
   "metadata": {},
   "source": [
    "#### Time spent on old and new landing page, sorted by language preference"
   ]
  },
  {
   "cell_type": "code",
   "execution_count": 200,
   "metadata": {},
   "outputs": [
    {
     "data": {
      "image/png": "[encoded data removed]",
      "text/plain": [
       "<Figure size 432x288 with 1 Axes>"
      ]
     },
     "metadata": {
      "needs_background": "light"
     },
     "output_type": "display_data"
    }
   ],
   "source": [
    "sns.boxplot(x='langpref', y='time', hue='lpage',data=abt, palette='YlOrBr');"
   ]
  },
  {
   "cell_type": "markdown",
   "metadata": {},
   "source": [
    "#### Time spent on landing page by language preference and sorted by subscriber conversion"
   ]
  },
  {
   "cell_type": "code",
   "execution_count": 201,
   "metadata": {},
   "outputs": [
    {
     "data": {
      "image/png": "[encoded data removed]",
      "text/plain": [
       "<Figure size 432x288 with 1 Axes>"
      ]
     },
     "metadata": {
      "needs_background": "light"
     },
     "output_type": "display_data"
    }
   ],
   "source": [
    "sns.boxplot(x='langpref', y='time', hue='conv',data=abt, palette='cubehelix');\n"
   ]
  },
  {
   "cell_type": "markdown",
   "metadata": {},
   "source": [
    "Reviewing the above box plots suggests users tend to spend more time on the new landing page.  Also, those that spend more time on either landing page tend to become subscribers.  When comparing time spent on the old landing page and the new landing page in conjunction with the subscriber conversions, the number who didn't subscribe appear to have spent less time on the old landing page than the new, but the time spent by new subscribers appears to be similar with the average time spent on the new landing page slightly higher than the old landing page, disregarding outliers. \n",
    "\n",
    "In reference to language preference, it appears that French language speakers spent marginally more time than English speakers overall on either landing page, with Spanish speakers spending the least. The average time English speaking users spent on the new landing page appears higher than either French or Spanish speakers.  The average time spent on either landing page appears to be similar across languages in regards to those who converted to subscribers. "
   ]
  },
  {
   "cell_type": "markdown",
   "metadata": {},
   "source": [
    "## Statistical Analysis"
   ]
  },
  {
   "cell_type": "markdown",
   "metadata": {},
   "source": [
    "### 1.   Do the users spend more time on the new landing page than the old landing page? "
   ]
  },
  {
   "cell_type": "markdown",
   "metadata": {},
   "source": [
    "#### Establish null and alternative hypotheses\n",
    "\n",
    "Let $\\mu_1$ and $\\mu_2$ equal the average amount of time spent on old landing page and new landing page, respectively\n",
    "\n",
    "Therefore:\n",
    "\n",
    " Null Hypothesis: \n",
    " \n",
    " $H_0:\\mu_1=\\mu_2$\n",
    "\n",
    "Alternative Hypothesis:\n",
    "\n",
    " $H_a:\\mu_1<mu_2$"
   ]
  },
  {
   "cell_type": "code",
   "execution_count": 209,
   "metadata": {},
   "outputs": [],
   "source": [
    "# sort data by landing page for further analysis\n",
    "by_lp=abt.groupby('lpage') #sort landing page\n",
    "old=by_lp.get_group('old')\n",
    "new=by_lp.get_group('new')"
   ]
  },
  {
   "cell_type": "code",
   "execution_count": 210,
   "metadata": {},
   "outputs": [
    {
     "name": "stdout",
     "output_type": "stream",
     "text": [
      "<class 'pandas.core.frame.DataFrame'>\n",
      "Int64Index: 50 entries, 0 to 96\n",
      "Data columns (total 6 columns):\n",
      " #   Column    Non-Null Count  Dtype  \n",
      "---  ------    --------------  -----  \n",
      " 0   user_id   50 non-null     int64  \n",
      " 1   group     50 non-null     object \n",
      " 2   lpage     50 non-null     object \n",
      " 3   time      50 non-null     float64\n",
      " 4   conv      50 non-null     object \n",
      " 5   langpref  50 non-null     object \n",
      "dtypes: float64(1), int64(1), object(4)\n",
      "memory usage: 2.7+ KB\n"
     ]
    }
   ],
   "source": [
    "#verify newly created 'old' dataset\n",
    "old.info()"
   ]
  },
  {
   "cell_type": "code",
   "execution_count": 211,
   "metadata": {},
   "outputs": [
    {
     "name": "stdout",
     "output_type": "stream",
     "text": [
      "<class 'pandas.core.frame.DataFrame'>\n",
      "Int64Index: 50 entries, 1 to 99\n",
      "Data columns (total 6 columns):\n",
      " #   Column    Non-Null Count  Dtype  \n",
      "---  ------    --------------  -----  \n",
      " 0   user_id   50 non-null     int64  \n",
      " 1   group     50 non-null     object \n",
      " 2   lpage     50 non-null     object \n",
      " 3   time      50 non-null     float64\n",
      " 4   conv      50 non-null     object \n",
      " 5   langpref  50 non-null     object \n",
      "dtypes: float64(1), int64(1), object(4)\n",
      "memory usage: 2.7+ KB\n"
     ]
    }
   ],
   "source": [
    "# verify newly created 'new' dataset\n",
    "new.info()"
   ]
  },
  {
   "cell_type": "markdown",
   "metadata": {},
   "source": [
    "Assume both data sets are normally distributed using the Central Limit Theorem assupmtions.  These assumptions include: \n",
    "- the data is randomly sampled\n",
    "- sample values are indendendent of each other\n",
    "- samples are from same distribution and sample size is suffciently large ($\\geq30$)"
   ]
  },
  {
   "cell_type": "code",
   "execution_count": 222,
   "metadata": {},
   "outputs": [
    {
     "name": "stdout",
     "output_type": "stream",
     "text": [
      "The standard deviation of the time spent on the old landing page is 2.58\n",
      "The standard deviation of the time spent on the new landing page is 1.82\n"
     ]
    }
   ],
   "source": [
    "#determine if sample standard deviations are equal\n",
    "print('The standard deviation of the time spent on the old landing page is', round(old.time.std(),2))\n",
    "print('The standard deviation of the time spent on the new landing page is', round(new.time.std(),2))"
   ]
  },
  {
   "cell_type": "markdown",
   "metadata": {},
   "source": [
    "Because the sample standard deviations are not equal, it is safe to assume the population standard deviations are not equal.  The Independent Sample T-test can be used to assess the null hypothesis, once remaining T-test assumptions are met.  These assumptions include:\n",
    "- Continuous data - yes, time is measured on continuous scale\n",
    "- Normally distributed population - yes in accordance with the Central Limit Theorem assumptions as stated previously\n",
    "- Independent populations - two different test groups, one viewed old landing page, another viewed new landing page\n",
    "- Unequal standard deviations - proved previously\n",
    "- Random sampling from the population - background information states randomly sampled users\n",
    "\n",
    "Because all these assumptions are met, the two sample T-test is used to assess the null hypothesis.  Level of significance is assumed to be .05."
   ]
  },
  {
   "cell_type": "code",
   "execution_count": 224,
   "metadata": {},
   "outputs": [
    {
     "name": "stdout",
     "output_type": "stream",
     "text": [
      "The p-value is 0.0001392381225166549\n"
     ]
    }
   ],
   "source": [
    "#import necessary functions\n",
    "from scipy.stats import ttest_ind\n",
    "#find p-value\n",
    "tstat,pval = ttest_ind(old['time'], new['time'], equal_var=False, alternative='less')\n",
    "print('The p-value is', pval)"
   ]
  },
  {
   "cell_type": "markdown",
   "metadata": {},
   "source": [
    "Because the p-value ( $\\approx$ .0001) is less than the level of significance (.05), the null hypothesis is rejected.  Therefore, there is enough evidence to suggest that users spend more time on the new landing page than the old landing page. "
   ]
  },
  {
   "cell_type": "markdown",
   "metadata": {},
   "source": [
    "### 2.   Is the conversion rate (the proportion of users who visit the landing page and get converted) for the new page greater than the conversion rate for the old page?"
   ]
  },
  {
   "cell_type": "markdown",
   "metadata": {},
   "source": [
    "#### Establish Null and Alternative Hypotheses\n",
    "\n",
    "Let $p_1$ and $p_2$ represent the conversion rates of the old landing page and new landing page, respectively.\n",
    "\n",
    "Therefore:\n",
    "\n",
    "Null Hypothesis:\n",
    "\n",
    "$H_0:  p_1 = p_2$\n",
    "\n",
    "Alternative Hypothesis:\n",
    "\n",
    " $H_a: p_1 < p_2$"
   ]
  },
  {
   "cell_type": "markdown",
   "metadata": {},
   "source": [
    "#### Determine actual number of converted users on each landing page"
   ]
  },
  {
   "cell_type": "code",
   "execution_count": 226,
   "metadata": {},
   "outputs": [
    {
     "name": "stdout",
     "output_type": "stream",
     "text": [
      "Counter({'no': 29, 'yes': 21})\n"
     ]
    }
   ],
   "source": [
    "#import necessary functions\n",
    "from collections import Counter\n",
    "print(Counter(old['conv']))"
   ]
  },
  {
   "cell_type": "code",
   "execution_count": 227,
   "metadata": {},
   "outputs": [
    {
     "name": "stdout",
     "output_type": "stream",
     "text": [
      "Counter({'yes': 33, 'no': 17})\n"
     ]
    }
   ],
   "source": [
    "print(Counter(new['conv']))"
   ]
  },
  {
   "cell_type": "markdown",
   "metadata": {},
   "source": [
    "Out of the 50 users viewing the old landing page, 21 converted to subscribers.  For the new landing page, which also had 50 users, 33 converted to subscribers. "
   ]
  },
  {
   "cell_type": "markdown",
   "metadata": {},
   "source": [
    "Test for satisfaction of Z-test assumptions:\n",
    "\n",
    "- Binomially distributed population - yes, users were either converted to subscribers or they were not)\n",
    "- Randomly sampled population - background information states randomly selected users\n",
    "- Can the binomial distribution be approximated by a normal distribution - (np) and n(1-p) are greater than or equal to 10\n",
    "\n",
    ">>$np_1 = 50\\cdot \\frac{21}{50} = 21 \\geq 10\\\\\n",
    "n(1-p_1) = 50 \\cdot \\frac{50-21}{50} = 29 \\geq 10 \\\\\n",
    "np_2 = 50\\cdot \\frac{33}{50} = 33 \\geq 10\\\\\n",
    "n(1-p_2) = 50 \\cdot \\frac{50-33}{50} = 17 \\geq 10 $\n",
    "\n",
    "Because these assumptions are met, the two proportions Z-test is used to assess the null hypothesis.  Assume level of significance to be .05\n"
   ]
  },
  {
   "cell_type": "code",
   "execution_count": 268,
   "metadata": {},
   "outputs": [],
   "source": [
    "#import necessary functions\n",
    "from statsmodels.stats.proportion import proportions_ztest"
   ]
  },
  {
   "cell_type": "code",
   "execution_count": 269,
   "metadata": {},
   "outputs": [],
   "source": [
    "#set the counts of converted users\n",
    "conv_us = np.array([21,33])\n",
    "#set sample sizes\n",
    "pages = np.array([50,50])"
   ]
  },
  {
   "cell_type": "code",
   "execution_count": 270,
   "metadata": {},
   "outputs": [
    {
     "name": "stdout",
     "output_type": "stream",
     "text": [
      "P-value =  0.008026308204056278\n"
     ]
    }
   ],
   "source": [
    "#find p-value\n",
    "tstat1, pval1=proportions_ztest(conv_us, pages, alternative = 'smaller')\n",
    "print('P-value = ', pval1)"
   ]
  },
  {
   "cell_type": "markdown",
   "metadata": {},
   "source": [
    "Because the p-value ( $\\approx$ .008) is less than the level of significance (.05) the null hypothesis can be rejected.  Therefore there is enough evidence to suggest that conversion rate related to the old landing page is less than the conversion rate for the new landing page. "
   ]
  },
  {
   "cell_type": "markdown",
   "metadata": {},
   "source": [
    "### 3.   Does the converted status depend on the preferred language? "
   ]
  },
  {
   "cell_type": "code",
   "execution_count": 238,
   "metadata": {},
   "outputs": [
    {
     "data": {
      "text/html": [
       "<div>\n",
       "<style scoped>\n",
       "    .dataframe tbody tr th:only-of-type {\n",
       "        vertical-align: middle;\n",
       "    }\n",
       "\n",
       "    .dataframe tbody tr th {\n",
       "        vertical-align: top;\n",
       "    }\n",
       "\n",
       "    .dataframe thead th {\n",
       "        text-align: right;\n",
       "    }\n",
       "</style>\n",
       "<table border=\"1\" class=\"dataframe\">\n",
       "  <thead>\n",
       "    <tr style=\"text-align: right;\">\n",
       "      <th>langpref</th>\n",
       "      <th>English</th>\n",
       "      <th>French</th>\n",
       "      <th>Spanish</th>\n",
       "    </tr>\n",
       "    <tr>\n",
       "      <th>conv</th>\n",
       "      <th></th>\n",
       "      <th></th>\n",
       "      <th></th>\n",
       "    </tr>\n",
       "  </thead>\n",
       "  <tbody>\n",
       "    <tr>\n",
       "      <th>no</th>\n",
       "      <td>11</td>\n",
       "      <td>19</td>\n",
       "      <td>16</td>\n",
       "    </tr>\n",
       "    <tr>\n",
       "      <th>yes</th>\n",
       "      <td>21</td>\n",
       "      <td>15</td>\n",
       "      <td>18</td>\n",
       "    </tr>\n",
       "  </tbody>\n",
       "</table>\n",
       "</div>"
      ],
      "text/plain": [
       "langpref  English  French  Spanish\n",
       "conv                              \n",
       "no             11      19       16\n",
       "yes            21      15       18"
      ]
     },
     "execution_count": 238,
     "metadata": {},
     "output_type": "execute_result"
    }
   ],
   "source": [
    "#create a contingency table with conversions in relation to language preference\n",
    "tab=pd.crosstab(abt.conv, abt.langpref)\n",
    "tab"
   ]
  },
  {
   "cell_type": "markdown",
   "metadata": {},
   "source": [
    "#### Establish Null and Alternative Hypotheses\n",
    "\n",
    "$H_0$: Converted status is independent of language preference\n",
    "\n",
    "$H_a$: Converted status is dependent on language preference\n",
    "\n",
    "Test for satisfaction of Chi-Squared Test for Independence:\n",
    "\n",
    "- Categorical variables - yes\n",
    "- Number of sample observations in each level at least 5 - yes (see contingency table)\n",
    "- Randomly sampled population - background information states randomly selected users\n",
    "\n",
    "Because these assumptions are met, Chi-Squared Test for Independence can be used.  Assumed level of significance is .05."
   ]
  },
  {
   "cell_type": "code",
   "execution_count": 258,
   "metadata": {},
   "outputs": [
    {
     "data": {
      "text/html": [
       "<div>\n",
       "<style scoped>\n",
       "    .dataframe tbody tr th:only-of-type {\n",
       "        vertical-align: middle;\n",
       "    }\n",
       "\n",
       "    .dataframe tbody tr th {\n",
       "        vertical-align: top;\n",
       "    }\n",
       "\n",
       "    .dataframe thead th {\n",
       "        text-align: right;\n",
       "    }\n",
       "</style>\n",
       "<table border=\"1\" class=\"dataframe\">\n",
       "  <thead>\n",
       "    <tr style=\"text-align: right;\">\n",
       "      <th>langpref</th>\n",
       "      <th>conv</th>\n",
       "      <th>English</th>\n",
       "      <th>French</th>\n",
       "      <th>Spanish</th>\n",
       "    </tr>\n",
       "  </thead>\n",
       "  <tbody>\n",
       "    <tr>\n",
       "      <th>0</th>\n",
       "      <td>no</td>\n",
       "      <td>11</td>\n",
       "      <td>19</td>\n",
       "      <td>16</td>\n",
       "    </tr>\n",
       "    <tr>\n",
       "      <th>1</th>\n",
       "      <td>yes</td>\n",
       "      <td>21</td>\n",
       "      <td>15</td>\n",
       "      <td>18</td>\n",
       "    </tr>\n",
       "  </tbody>\n",
       "</table>\n",
       "</div>"
      ],
      "text/plain": [
       "langpref conv  English  French  Spanish\n",
       "0          no       11      19       16\n",
       "1         yes       21      15       18"
      ]
     },
     "execution_count": 258,
     "metadata": {},
     "output_type": "execute_result"
    }
   ],
   "source": [
    "#reset index so that 'conv' is a column and not the index\n",
    "tab.reset_index(level=0, inplace=True)\n",
    "tab"
   ]
  },
  {
   "cell_type": "code",
   "execution_count": 261,
   "metadata": {},
   "outputs": [
    {
     "name": "stdout",
     "output_type": "stream",
     "text": [
      "p-value =  0.21298887487543447\n"
     ]
    }
   ],
   "source": [
    "#import required function\n",
    "from scipy.stats import chi2_contingency\n",
    "\n",
    "#find p-value\n",
    "chi, pval2, dof, expect = stats.chi2_contingency(tab.drop('conv', axis=1))\n",
    "print('p-value = ', pval2)"
   ]
  },
  {
   "cell_type": "markdown",
   "metadata": {},
   "source": [
    "Because the p-value ($\\approx$ .213) is greater than the Level of Significance (.05), the null hypothesis cannot be rejected.  Therefore there is enough evidence to suggest that a user's converted status is independent of language preference. "
   ]
  },
  {
   "cell_type": "markdown",
   "metadata": {},
   "source": [
    "### 4. Is the mean time spent on the new page the same for the different language users?"
   ]
  },
  {
   "cell_type": "markdown",
   "metadata": {},
   "source": [
    "#### Establish Null and Alternative Hypotheses\n",
    "\n",
    "Let $\\mu_1$, $\\mu_2$ and $\\mu_3$ represent the mean time spent on the new page for each English, French, and Spansh language preference\n",
    "\n",
    "Null Hypothesis:\n",
    "\n",
    "$H_0:  \\mu_1=\\mu_2=\\mu_3$\n",
    "\n",
    "Alternative Hypothesis:\n",
    "\n",
    "$H_a$ :  At least one preferred language users' average time spent on the new landing page is different from the other two"
   ]
  },
  {
   "cell_type": "markdown",
   "metadata": {},
   "source": [
    "The One-way ANOVA Test is most likely the best statistical test to test the hypothesis.  However, it is necessary to verify assumptions are met using the Shapiro-Wilks test for normality and the Levene test for equality of variances.  Level of significance is assumed to be .05 for both tests. "
   ]
  },
  {
   "cell_type": "markdown",
   "metadata": {},
   "source": [
    "##### Shapiro-Wilks test\n",
    "\n",
    "Establish Null and Alternative Hypotheses\n",
    "\n",
    "Null Hypothesis:\n",
    "\n",
    "$H_0$ :  Time spent on the new landing page follows a normal distribution\n",
    "\n",
    "Alternative Hypothesis:\n",
    "\n",
    "$H_a$ : Time spent on the new landing page does not follow a normal distribution"
   ]
  },
  {
   "cell_type": "code",
   "execution_count": 263,
   "metadata": {},
   "outputs": [
    {
     "name": "stdout",
     "output_type": "stream",
     "text": [
      "p-value = 0.8040016293525696\n"
     ]
    }
   ],
   "source": [
    "# find the p-value\n",
    "w, pval3 = stats.shapiro(new['time'])\n",
    "print('p-value =', pval3)"
   ]
  },
  {
   "cell_type": "markdown",
   "metadata": {},
   "source": [
    "Because the p-value is very large ($\\approx$ .80) the null hypothesis can not be rejected.  Therefore there is enough evidence to suggest that the sample is normally distributed."
   ]
  },
  {
   "cell_type": "markdown",
   "metadata": {},
   "source": [
    "##### Levene's Test\n",
    "\n",
    "Establish Null and Alternative Hypotheses\n",
    "\n",
    "Null Hypothesis:\n",
    "\n",
    "$H_0$ : All population variances are equal\n",
    "\n",
    "Alternative Hypothesis:\n",
    "\n",
    "$H_a$ : At least one variance is different from the rest"
   ]
  },
  {
   "cell_type": "code",
   "execution_count": 264,
   "metadata": {},
   "outputs": [
    {
     "name": "stdout",
     "output_type": "stream",
     "text": [
      "p-value = 0.46711357711340173\n"
     ]
    }
   ],
   "source": [
    "#import required function\n",
    "from scipy.stats import levene\n",
    "#find p-value\n",
    "stats, pval4 = levene(new['time'][new['langpref']=='English'], \n",
    "                      new['time'][new['langpref']=='French'], \n",
    "                      new['time'][new['langpref']=='Spanish'])\n",
    "print('p-value =', pval4)"
   ]
  },
  {
   "cell_type": "markdown",
   "metadata": {},
   "source": [
    "Because the p-value is fairly large ($\\approx$ .47) the null hypothesis cannot be rejected.  Therefore there is enough evidence to suggest all population variances are equal."
   ]
  },
  {
   "cell_type": "markdown",
   "metadata": {},
   "source": [
    "##### Summarize satisfaction of assumptions\n",
    "\n",
    "- Populations are normally distributed as confirmed with the Shapiro-Wilks test\n",
    "- Samples are independent simple randome samples - background information verifies random sampling\n",
    "- Equal population variances - Levene's test results concur with homogeneity of variances \n",
    "\n",
    "Because these assumptions are met, the One-way ANOVA Test can be used to determine if the mean time spent on the new page varies based on language preference."
   ]
  },
  {
   "cell_type": "markdown",
   "metadata": {},
   "source": [
    "##### One-way ANOVA test"
   ]
  },
  {
   "cell_type": "code",
   "execution_count": 265,
   "metadata": {},
   "outputs": [
    {
     "name": "stdout",
     "output_type": "stream",
     "text": [
      "p-value =  0.43204138694325955\n"
     ]
    }
   ],
   "source": [
    "#import required function\n",
    "from scipy.stats import f_oneway\n",
    "\n",
    "#find p-value\n",
    "tstat5, pval5 = f_oneway(new.loc[new['langpref']=='English', 'time'],\n",
    "                         new.loc[new['langpref']=='French','time'],\n",
    "                         new.loc[new['langpref']=='Spanish','time'])\n",
    "print('p-value = ', pval5)"
   ]
  },
  {
   "cell_type": "markdown",
   "metadata": {},
   "source": [
    "The p-value ( $\\approx$ .43) is significantly greater than the level of significance.  Therefore the null hypothesis cannot be rejected.  This suggests that the mean time spent on the new page is similar across all three language preference users.  "
   ]
  },
  {
   "cell_type": "code",
   "execution_count": null,
   "metadata": {},
   "outputs": [],
   "source": []
  }
 ],
 "metadata": {
  "kernelspec": {
   "display_name": "Python 3",
   "language": "python",
   "name": "python3"
  },
  "language_info": {
   "codemirror_mode": {
    "name": "ipython",
    "version": 3
   },
   "file_extension": ".py",
   "mimetype": "text/x-python",
   "name": "python",
   "nbconvert_exporter": "python",
   "pygments_lexer": "ipython3",
   "version": "3.8.5"
  }
 },
 "nbformat": 4,
 "nbformat_minor": 4
}
